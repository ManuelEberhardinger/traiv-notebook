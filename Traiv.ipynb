{
 "cells": [
  {
   "cell_type": "markdown",
   "metadata": {},
   "source": [
    "# Traiv \n",
    "This notebook is for testing of AI use cases and performance."
   ]
  },
  {
   "cell_type": "code",
   "execution_count": null,
   "metadata": {},
   "outputs": [],
   "source": [
    "import os\n",
    "import torch\n",
    "from torch.autograd import Variable\n",
    "from utils import helper\n",
    "import torch.utils.data as data_loader\n",
    "import torchvision.models as pretrained_models\n",
    "import torch.nn.functional as F\n",
    "from PIL import Image, ImageOps"
   ]
  },
  {
   "cell_type": "code",
   "execution_count": null,
   "metadata": {},
   "outputs": [],
   "source": [
    "net = pretrained_models.resnet50(pretrained=False)\n",
    "net.fc = torch.nn.Linear(2048, 10)\n",
    "net.load_state_dict(torch.load(\"serialized_nets/ResNet50SimilarPlaces_v1000\", map_location=\"cpu\"))"
   ]
  },
  {
   "cell_type": "code",
   "execution_count": null,
   "metadata": {},
   "outputs": [],
   "source": [
    "labels = [x for x in os.listdir('dataset/Trainingsset/') if \".\" not in x]\n",
    "labels"
   ]
  },
  {
   "cell_type": "code",
   "execution_count": null,
   "metadata": {},
   "outputs": [],
   "source": [
    "def classify_image(image, classes):\n",
    "    mapped_classes = get_class_mapping(classes)\n",
    "    transformations = helper.TransformationHelper().get_test_transformations()\n",
    "    image = transformations(image).float()\n",
    "    image = Variable(image).unsqueeze(0)\n",
    "    outputs = net(image)\n",
    "    probs = F.softmax(outputs, 1)\n",
    "    probs = probs.data.numpy()[0]\n",
    "    percentage_probs = [i * 100 for i in probs]\n",
    "    _, predicted = torch.max(outputs.data, 1)\n",
    "    print(\"PREDICTION: \" + str(mapped_classes.get(predicted.item())))\n",
    "\n",
    "    result = {\n",
    "        'label': mapped_classes.get(predicted.item()),\n",
    "        'probs': max(percentage_probs),\n",
    "    }\n",
    "\n",
    "    print(\"classify_image < result: {}\".format(result))\n",
    "    return result\n",
    "\n",
    "\n",
    "def get_class_mapping(classes):\n",
    "    classes.sort()\n",
    "    class_to_idx = {i: classes[i] for i in range(len(classes))}\n",
    "    return class_to_idx\n",
    "\n",
    "\n",
    "# trains a given network with the dataloader and the iterations given\n",
    "def train_network(net, dset_loader, testset, iterations, optimizer, criterion, device):\n",
    "    testset_loader = data_loader.DataLoader(testset, shuffle=True, num_workers=4)\n",
    "    net = net.to(device)\n",
    "    for epoch in range(iterations):  # loop over the dataset multiple times\n",
    "\n",
    "        running_loss = 0.0\n",
    "        for i, data in enumerate(dset_loader, 0):\n",
    "            # get the inputs\n",
    "            (inputs, classes), _ = data\n",
    "\n",
    "            # wrap them in Variable\n",
    "            inputs, classes = Variable(inputs), Variable(classes)\n",
    "\n",
    "            # move them to gpu if accessible\n",
    "            inputs, classes = inputs.to(device), classes.to(device)\n",
    "\n",
    "            # zero the parameter gradients\n",
    "            optimizer.zero_grad()\n",
    "            # forward + backward + optimize\n",
    "            outputs = net.forward(inputs)\n",
    "\n",
    "            loss = criterion(outputs, classes)\n",
    "            loss.backward()\n",
    "\n",
    "            optimizer.step()\n",
    "\n",
    "            # print statistics\n",
    "            running_loss += loss.data.item()\n",
    "            if i % 100 == 99:  # print every 2000 mini-batches\n",
    "                print('[%d, %5d] loss: %.3f' % (epoch + 1, i + 1, running_loss / 2000))\n",
    "                running_loss = 0.0\n",
    "\n",
    "        if epoch % 100 == 99:\n",
    "            tester = helper.TestHelper(testset_loader, testset.classes, net, device)\n",
    "            tester.test_total_precision()\n",
    "            tester.print_total_precision(\"ResNet152\", epoch+1)\n",
    "            torch.save(net.state_dict(), os.getcwd() + '/serialized_nets/ResNet152SimilarPlaces_v' + str(epoch+1))\n"
   ]
  },
  {
   "cell_type": "code",
   "execution_count": null,
   "metadata": {},
   "outputs": [],
   "source": [
    "test_images = ['images/' + x for x in os.listdir('images/') if \".DS_Store\" not in x]\n",
    "test_images"
   ]
  },
  {
   "cell_type": "code",
   "execution_count": null,
   "metadata": {
    "scrolled": false
   },
   "outputs": [],
   "source": [
    "for img in test_images[:4]:\n",
    "    image = Image.open(img)\n",
    "    display(image)\n",
    "    classify_image(image, labels)\n",
    "    image = ImageOps.equalize(image)\n",
    "    display(image)\n",
    "    classify_image(image, labels)"
   ]
  },
  {
   "cell_type": "code",
   "execution_count": null,
   "metadata": {},
   "outputs": [],
   "source": [
    "for img in test_images[:]:\n",
    "    image = Image.open(img)\n",
    "    display(image)\n",
    "    classify_image(image, labels)\n",
    "    image = ImageOps.equalize(image)\n",
    "    display(image)\n",
    "    classify_image(image, labels)"
   ]
  }
 ],
 "metadata": {
  "kernelspec": {
   "display_name": "Python 3",
   "language": "python",
   "name": "python3"
  },
  "language_info": {
   "codemirror_mode": {
    "name": "ipython",
    "version": 3
   },
   "file_extension": ".py",
   "mimetype": "text/x-python",
   "name": "python",
   "nbconvert_exporter": "python",
   "pygments_lexer": "ipython3",
   "version": "3.7.7"
  }
 },
 "nbformat": 4,
 "nbformat_minor": 4
}
